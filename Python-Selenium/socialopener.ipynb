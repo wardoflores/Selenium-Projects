{
 "cells": [
  {
   "cell_type": "markdown",
   "metadata": {},
   "source": [
    "# Initialize Selenium\n",
    "\n",
    "### If it crashes, run again to run properly."
   ]
  },
  {
   "cell_type": "code",
   "execution_count": null,
   "metadata": {},
   "outputs": [],
   "source": [
    "from selenium import webdriver\n",
    "from selenium.webdriver.common.keys import Keys\n",
    "from selenium.webdriver.common.by import By\n",
    "import time\n",
    "from crdntl import mail_address, passgoog, passmain\n",
    "\n",
    "# driver_path = \"/usr/bin/chromedriver\"\n",
    "# browser_path = \"/usr/share/applications/google-chrome.desktop\"\n",
    "\n",
    "# option = webdriver.ChromeOptions()\n",
    "# option.binary_location = browser_path\n",
    "\n",
    "# option.add_argument('--disable-blink-features=AutomationControlled')\n",
    "# option.add_experimental_option('excludeSwitches', ['enable-logging'])\n",
    "# option.add_argument('--start-maximized')\n",
    "# option.add_argument(\"--incognito\") #OPTIONAL\n",
    "# option.add_argument(\"--headless\") #OPTIONAL"
   ]
  },
  {
   "cell_type": "markdown",
   "metadata": {},
   "source": [
    "# Twitter\n",
    "\n",
    "TODO: Search bar has no name element"
   ]
  },
  {
   "cell_type": "code",
   "execution_count": null,
   "metadata": {},
   "outputs": [],
   "source": [
    "browser = webdriver.Chrome()\n",
    "\n",
    "browser.get(\"https://twitter.com/login\")\n",
    "\n",
    "time.sleep(10)\n",
    "\n",
    "user = browser.find_element_by_name('text')\n",
    "\n",
    "# Enter User Name\n",
    "user.send_keys('edujoeflo')\n",
    "user.send_keys(Keys.RETURN)\n",
    "\n",
    "time.sleep(6)\n",
    "\n",
    "# # optional if login is asking for Verification\n",
    "# user0 = browser.find_element_by_name('text')\n",
    "\n",
    "# # Enter email address in verification \n",
    "# user0.send_keys(mail_address)\n",
    "# user0.send_keys(Keys.RETURN)\n",
    "\n",
    "# time.sleep(6)\n",
    "\n",
    "user2 = browser.find_element_by_name('password')\n",
    "\n",
    "# # Enter Password\n",
    "\n",
    "user2.send_keys(passmain)\n",
    "user2.send_keys(Keys.RETURN)\n",
    "\n",
    "print(\"Login Successful\")\n",
    "\n",
    "# time.sleep(5)\n",
    "\n",
    "# elem = browser.find_element_by_name(\"\")\n",
    "# elem.click()\n",
    "# elem.clear()\n",
    "  \n",
    "# elem.send_keys(\"test\")\n",
    "  \n",
    "# # using keys to send special KEYS \n",
    "# elem.send_keys(Keys.RETURN) \n",
    "  \n",
    "# print(\"Search Successful\")\n",
    "\n",
    "time.sleep(45)\n",
    "browser.close()"
   ]
  },
  {
   "cell_type": "markdown",
   "metadata": {},
   "source": [
    "# Facebook\n",
    "\n",
    "yep"
   ]
  },
  {
   "cell_type": "code",
   "execution_count": null,
   "metadata": {},
   "outputs": [],
   "source": [
    "browser = webdriver.Chrome()\n",
    "\n",
    "browser.get(\"https://mbasic.facebook.com\")  \n",
    "\n",
    "# Creating a Reference of Form For Finding Email and Password\n",
    "form = browser.find_element_by_xpath(\"//form[@id ='login_form']\")\n",
    "email = form.find_element_by_name(\"email\") \n",
    "password = form.find_element_by_name(\"pass\")\n",
    "\n",
    "email.send_keys(mail_address)\n",
    "password.send_keys(passmain) \n",
    "\n",
    "submit_button = browser.find_element_by_xpath(\"//input[@type ='submit']\")\n",
    "\n",
    "submit_button.click() \n",
    "\n",
    "print(\"Login Successful.\")\n",
    "\n",
    "time.sleep(45)\n",
    "browser.close()"
   ]
  }
 ],
 "metadata": {
  "interpreter": {
   "hash": "e7370f93d1d0cde622a1f8e1c04877d8463912d04d973331ad4851f04de6915a"
  },
  "kernelspec": {
   "display_name": "Python 3.8.6 64-bit",
   "language": "python",
   "name": "python3"
  },
  "language_info": {
   "codemirror_mode": {
    "name": "ipython",
    "version": 3
   },
   "file_extension": ".py",
   "mimetype": "text/x-python",
   "name": "python",
   "nbconvert_exporter": "python",
   "pygments_lexer": "ipython3",
   "version": "3.10.2"
  },
  "metadata": {
   "interpreter": {
    "hash": "2db524e06e9f5f4ffedc911c917cb75e12dbc923643829bf417064a77eb14d37"
   }
  },
  "orig_nbformat": 2
 },
 "nbformat": 4,
 "nbformat_minor": 2
}
